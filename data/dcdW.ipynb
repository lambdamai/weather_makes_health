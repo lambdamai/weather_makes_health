{
 "cells": [
  {
   "cell_type": "code",
   "execution_count": 188,
   "metadata": {},
   "outputs": [],
   "source": [
    "import re"
   ]
  },
  {
   "cell_type": "code",
   "execution_count": 193,
   "metadata": {},
   "outputs": [],
   "source": [
    "files = ['DATaHI','DP','DS','FPM','LST']"
   ]
  },
  {
   "cell_type": "code",
   "execution_count": 194,
   "metadata": {},
   "outputs": [
    {
     "name": "stdout",
     "output_type": "stream",
     "text": [
      "3529\n",
      "3529\n",
      "3529\n",
      "3529\n",
      "3529\n"
     ]
    }
   ],
   "source": [
    "for p in files:\n",
    "    f = open(f'{p}.txt', 'r').read()\n",
    "    f = re.sub('\\n\\t', '\\n', f)\n",
    "    f = re.sub('\\t\\\"[0-9]*\\\"\\t\\\"', '\\t\\\"', f)\n",
    "    f = re.sub('\\t\\\"(Jan|Feb|Mar|Apr|May|Jun|Jul|Aug|Sep|Oct|Nov|Dec)\\\"\\t', '\\t', f)\n",
    "    f = re.sub('(\\\"Notes\\\"\\t|\\\"State Code\\\"\\t|\\\"Month\\\"\\t|\\\"Year Code\\\"\\t)', '', f)\n",
    "    f = re.sub('\\\"\\-\\-\\-\\\"[^\\$]*', '', f, flags=re.MULTILINE)\n",
    "    f = re.sub('\\t', ';', f)\n",
    "    f = re.sub('\\\"', '', f)\n",
    "    f = re.sub('Missing', 'NaN', f)\n",
    "    print(len(f.splitlines()))\n",
    "    out_f = open(f'{p}_1.csv', 'w')\n",
    "    out_f.write(f)\n",
    "    out_f.close()"
   ]
  }
 ],
 "metadata": {
  "kernelspec": {
   "display_name": "Python 3",
   "language": "python",
   "name": "python3"
  },
  "language_info": {
   "codemirror_mode": {
    "name": "ipython",
    "version": 3
   },
   "file_extension": ".py",
   "mimetype": "text/x-python",
   "name": "python",
   "nbconvert_exporter": "python",
   "pygments_lexer": "ipython3",
   "version": "3.7.0"
  }
 },
 "nbformat": 4,
 "nbformat_minor": 2
}
